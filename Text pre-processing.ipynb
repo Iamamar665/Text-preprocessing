{
 "cells": [
  {
   "cell_type": "code",
   "execution_count": 1,
   "metadata": {},
   "outputs": [],
   "source": [
    "import nltk"
   ]
  },
  {
   "cell_type": "code",
   "execution_count": 2,
   "metadata": {},
   "outputs": [],
   "source": [
    "import re"
   ]
  },
  {
   "cell_type": "code",
   "execution_count": 3,
   "metadata": {},
   "outputs": [],
   "source": [
    "import os"
   ]
  },
  {
   "cell_type": "code",
   "execution_count": 4,
   "metadata": {},
   "outputs": [
    {
     "data": {
      "text/plain": [
       "'C:\\\\Users\\\\Amar Shilvanth'"
      ]
     },
     "execution_count": 4,
     "metadata": {},
     "output_type": "execute_result"
    }
   ],
   "source": [
    "os.getcwd()"
   ]
  },
  {
   "cell_type": "code",
   "execution_count": 5,
   "metadata": {},
   "outputs": [],
   "source": [
    "from string import punctuation"
   ]
  },
  {
   "cell_type": "code",
   "execution_count": 6,
   "metadata": {},
   "outputs": [],
   "source": [
    "from collections import Counter"
   ]
  },
  {
   "cell_type": "code",
   "execution_count": 24,
   "metadata": {},
   "outputs": [],
   "source": [
    "my_data = open(\"E:\\\\wikipeida.txt\",\"r\")"
   ]
  },
  {
   "cell_type": "code",
   "execution_count": 25,
   "metadata": {},
   "outputs": [],
   "source": [
    "my_doc = my_data.read()"
   ]
  },
  {
   "cell_type": "code",
   "execution_count": 33,
   "metadata": {},
   "outputs": [
    {
     "data": {
      "text/plain": [
       "'Olson and MÃ¡iz LÃ³pez considered it likely that Ara autocthones was endemic to the West Indian region rather than a species transported from the mainland by Native Americans, as it is far more likely a species restricted to islands would have been driven extinct. Since they found it unlikely the bird occurred naturally on St. Croix and questioned whether it could even have occurred naturally on Puerto Rico, they considered the name autocthones \"probably one of the worst possible choices\" for the species. Though fossils of the parrot genera Amazona and Aratinga have been found in pre-human sites on Puerto Rico, none such belonging to macaws have been found. Olson and MÃ¡iz LÃ³pez conceded that macaws are unlikely to be found in cave deposits and noted that the Cuban macaw\\'s fossils had been found in aquatic deposits. They also pointed out that various animal species were transported and kept in captivity by Native Americans â€“ for example the Puerto Rican hutia (Isolobodon portoricensis, an extinct rodent) and the Antillean cave rail (Nesotrochis debooyi, an extinct flightless rail) were both transported to St. Croix and found in kitchen middens.'"
      ]
     },
     "execution_count": 33,
     "metadata": {},
     "output_type": "execute_result"
    }
   ],
   "source": [
    "my_doc"
   ]
  },
  {
   "cell_type": "code",
   "execution_count": 26,
   "metadata": {},
   "outputs": [],
   "source": [
    "wordcount = Counter(my_doc)"
   ]
  },
  {
   "cell_type": "code",
   "execution_count": 27,
   "metadata": {},
   "outputs": [
    {
     "data": {
      "text/plain": [
       "Counter({'O': 2,\n",
       "         'l': 33,\n",
       "         's': 57,\n",
       "         'o': 76,\n",
       "         'n': 81,\n",
       "         ' ': 187,\n",
       "         'a': 76,\n",
       "         'd': 45,\n",
       "         'M': 2,\n",
       "         'Ã': 4,\n",
       "         '¡': 2,\n",
       "         'i': 70,\n",
       "         'z': 5,\n",
       "         'L': 2,\n",
       "         '³': 2,\n",
       "         'p': 20,\n",
       "         'e': 111,\n",
       "         'c': 39,\n",
       "         'r': 52,\n",
       "         't': 82,\n",
       "         'k': 6,\n",
       "         'y': 14,\n",
       "         'h': 38,\n",
       "         'A': 6,\n",
       "         'u': 28,\n",
       "         'w': 9,\n",
       "         'm': 15,\n",
       "         'W': 1,\n",
       "         'I': 2,\n",
       "         'g': 7,\n",
       "         'f': 15,\n",
       "         'b': 16,\n",
       "         'N': 3,\n",
       "         'v': 12,\n",
       "         ',': 5,\n",
       "         'x': 6,\n",
       "         '.': 7,\n",
       "         'S': 3,\n",
       "         'C': 3,\n",
       "         'q': 2,\n",
       "         'P': 3,\n",
       "         'R': 3,\n",
       "         '\"': 2,\n",
       "         'T': 2,\n",
       "         '-': 1,\n",
       "         \"'\": 1,\n",
       "         'â': 1,\n",
       "         '€': 1,\n",
       "         '“': 1,\n",
       "         '(': 2,\n",
       "         ')': 2})"
      ]
     },
     "execution_count": 27,
     "metadata": {},
     "output_type": "execute_result"
    }
   ],
   "source": [
    "wordcount"
   ]
  },
  {
   "cell_type": "code",
   "execution_count": 28,
   "metadata": {},
   "outputs": [
    {
     "data": {
      "text/plain": [
       "[(' ', 187),\n",
       " ('e', 111),\n",
       " ('t', 82),\n",
       " ('n', 81),\n",
       " ('o', 76),\n",
       " ('a', 76),\n",
       " ('i', 70),\n",
       " ('s', 57),\n",
       " ('r', 52),\n",
       " ('d', 45),\n",
       " ('c', 39)]"
      ]
     },
     "execution_count": 28,
     "metadata": {},
     "output_type": "execute_result"
    }
   ],
   "source": [
    " wordcount.most_common(11)"
   ]
  },
  {
   "cell_type": "code",
   "execution_count": 18,
   "metadata": {},
   "outputs": [
    {
     "data": {
      "text/plain": [
       "'!\"#$%&\\'()*+,-./:;<=>?@[\\\\]^_`{|}~'"
      ]
     },
     "execution_count": 18,
     "metadata": {},
     "output_type": "execute_result"
    }
   ],
   "source": [
    "punctuation"
   ]
  },
  {
   "cell_type": "code",
   "execution_count": 29,
   "metadata": {},
   "outputs": [],
   "source": [
    "new_doc = my_doc.split()"
   ]
  },
  {
   "cell_type": "code",
   "execution_count": 30,
   "metadata": {},
   "outputs": [
    {
     "data": {
      "text/plain": [
       "['Olson',\n",
       " 'and',\n",
       " 'MÃ¡iz',\n",
       " 'LÃ³pez',\n",
       " 'considered',\n",
       " 'it',\n",
       " 'likely',\n",
       " 'that',\n",
       " 'Ara',\n",
       " 'autocthones',\n",
       " 'was',\n",
       " 'endemic',\n",
       " 'to',\n",
       " 'the',\n",
       " 'West',\n",
       " 'Indian',\n",
       " 'region',\n",
       " 'rather',\n",
       " 'than',\n",
       " 'a',\n",
       " 'species',\n",
       " 'transported',\n",
       " 'from',\n",
       " 'the',\n",
       " 'mainland',\n",
       " 'by',\n",
       " 'Native',\n",
       " 'Americans,',\n",
       " 'as',\n",
       " 'it',\n",
       " 'is',\n",
       " 'far',\n",
       " 'more',\n",
       " 'likely',\n",
       " 'a',\n",
       " 'species',\n",
       " 'restricted',\n",
       " 'to',\n",
       " 'islands',\n",
       " 'would',\n",
       " 'have',\n",
       " 'been',\n",
       " 'driven',\n",
       " 'extinct.',\n",
       " 'Since',\n",
       " 'they',\n",
       " 'found',\n",
       " 'it',\n",
       " 'unlikely',\n",
       " 'the',\n",
       " 'bird',\n",
       " 'occurred',\n",
       " 'naturally',\n",
       " 'on',\n",
       " 'St.',\n",
       " 'Croix',\n",
       " 'and',\n",
       " 'questioned',\n",
       " 'whether',\n",
       " 'it',\n",
       " 'could',\n",
       " 'even',\n",
       " 'have',\n",
       " 'occurred',\n",
       " 'naturally',\n",
       " 'on',\n",
       " 'Puerto',\n",
       " 'Rico,',\n",
       " 'they',\n",
       " 'considered',\n",
       " 'the',\n",
       " 'name',\n",
       " 'autocthones',\n",
       " '\"probably',\n",
       " 'one',\n",
       " 'of',\n",
       " 'the',\n",
       " 'worst',\n",
       " 'possible',\n",
       " 'choices\"',\n",
       " 'for',\n",
       " 'the',\n",
       " 'species.',\n",
       " 'Though',\n",
       " 'fossils',\n",
       " 'of',\n",
       " 'the',\n",
       " 'parrot',\n",
       " 'genera',\n",
       " 'Amazona',\n",
       " 'and',\n",
       " 'Aratinga',\n",
       " 'have',\n",
       " 'been',\n",
       " 'found',\n",
       " 'in',\n",
       " 'pre-human',\n",
       " 'sites',\n",
       " 'on',\n",
       " 'Puerto',\n",
       " 'Rico,',\n",
       " 'none',\n",
       " 'such',\n",
       " 'belonging',\n",
       " 'to',\n",
       " 'macaws',\n",
       " 'have',\n",
       " 'been',\n",
       " 'found.',\n",
       " 'Olson',\n",
       " 'and',\n",
       " 'MÃ¡iz',\n",
       " 'LÃ³pez',\n",
       " 'conceded',\n",
       " 'that',\n",
       " 'macaws',\n",
       " 'are',\n",
       " 'unlikely',\n",
       " 'to',\n",
       " 'be',\n",
       " 'found',\n",
       " 'in',\n",
       " 'cave',\n",
       " 'deposits',\n",
       " 'and',\n",
       " 'noted',\n",
       " 'that',\n",
       " 'the',\n",
       " 'Cuban',\n",
       " \"macaw's\",\n",
       " 'fossils',\n",
       " 'had',\n",
       " 'been',\n",
       " 'found',\n",
       " 'in',\n",
       " 'aquatic',\n",
       " 'deposits.',\n",
       " 'They',\n",
       " 'also',\n",
       " 'pointed',\n",
       " 'out',\n",
       " 'that',\n",
       " 'various',\n",
       " 'animal',\n",
       " 'species',\n",
       " 'were',\n",
       " 'transported',\n",
       " 'and',\n",
       " 'kept',\n",
       " 'in',\n",
       " 'captivity',\n",
       " 'by',\n",
       " 'Native',\n",
       " 'Americans',\n",
       " 'â€“',\n",
       " 'for',\n",
       " 'example',\n",
       " 'the',\n",
       " 'Puerto',\n",
       " 'Rican',\n",
       " 'hutia',\n",
       " '(Isolobodon',\n",
       " 'portoricensis,',\n",
       " 'an',\n",
       " 'extinct',\n",
       " 'rodent)',\n",
       " 'and',\n",
       " 'the',\n",
       " 'Antillean',\n",
       " 'cave',\n",
       " 'rail',\n",
       " '(Nesotrochis',\n",
       " 'debooyi,',\n",
       " 'an',\n",
       " 'extinct',\n",
       " 'flightless',\n",
       " 'rail)',\n",
       " 'were',\n",
       " 'both',\n",
       " 'transported',\n",
       " 'to',\n",
       " 'St.',\n",
       " 'Croix',\n",
       " 'and',\n",
       " 'found',\n",
       " 'in',\n",
       " 'kitchen',\n",
       " 'middens.']"
      ]
     },
     "execution_count": 30,
     "metadata": {},
     "output_type": "execute_result"
    }
   ],
   "source": [
    "new_doc"
   ]
  },
  {
   "cell_type": "code",
   "execution_count": 21,
   "metadata": {},
   "outputs": [
    {
     "data": {
      "text/plain": [
       "''"
      ]
     },
     "execution_count": 21,
     "metadata": {},
     "output_type": "execute_result"
    }
   ],
   "source": [
    "my_data.read()"
   ]
  },
  {
   "cell_type": "code",
   "execution_count": 31,
   "metadata": {},
   "outputs": [],
   "source": [
    "new_wordcount = Counter(new_doc)"
   ]
  },
  {
   "cell_type": "code",
   "execution_count": 32,
   "metadata": {},
   "outputs": [
    {
     "data": {
      "text/plain": [
       "[('the', 10),\n",
       " ('and', 8),\n",
       " ('to', 5),\n",
       " ('found', 5),\n",
       " ('in', 5),\n",
       " ('it', 4),\n",
       " ('that', 4),\n",
       " ('have', 4),\n",
       " ('been', 4),\n",
       " ('species', 3),\n",
       " ('transported', 3)]"
      ]
     },
     "execution_count": 32,
     "metadata": {},
     "output_type": "execute_result"
    }
   ],
   "source": [
    "new_wordcount.most_common(11)"
   ]
  },
  {
   "cell_type": "code",
   "execution_count": 37,
   "metadata": {},
   "outputs": [
    {
     "data": {
      "text/plain": [
       "[('the', 10),\n",
       " ('and', 8),\n",
       " ('to', 5),\n",
       " ('found', 5),\n",
       " ('in', 5),\n",
       " ('it', 4),\n",
       " ('that', 4),\n",
       " ('have', 4),\n",
       " ('been', 4),\n",
       " ('species', 3),\n",
       " ('transported', 3),\n",
       " ('they', 3),\n",
       " ('on', 3),\n",
       " ('puerto', 3),\n",
       " ('olson', 2),\n",
       " ('mã¡iz', 2),\n",
       " ('lã³pez', 2),\n",
       " ('considered', 2),\n",
       " ('likely', 2),\n",
       " ('autocthones', 2),\n",
       " ('a', 2),\n",
       " ('by', 2),\n",
       " ('native', 2),\n",
       " ('unlikely', 2),\n",
       " ('occurred', 2),\n",
       " ('naturally', 2),\n",
       " ('st.', 2),\n",
       " ('croix', 2),\n",
       " ('rico,', 2),\n",
       " ('of', 2),\n",
       " ('for', 2),\n",
       " ('fossils', 2),\n",
       " ('macaws', 2),\n",
       " ('cave', 2),\n",
       " ('were', 2),\n",
       " ('an', 2),\n",
       " ('extinct', 2),\n",
       " ('ara', 1),\n",
       " ('was', 1),\n",
       " ('endemic', 1),\n",
       " ('west', 1),\n",
       " ('indian', 1),\n",
       " ('region', 1),\n",
       " ('rather', 1),\n",
       " ('than', 1),\n",
       " ('from', 1),\n",
       " ('mainland', 1),\n",
       " ('americans,', 1),\n",
       " ('as', 1),\n",
       " ('is', 1),\n",
       " ('far', 1),\n",
       " ('more', 1),\n",
       " ('restricted', 1),\n",
       " ('islands', 1),\n",
       " ('would', 1),\n",
       " ('driven', 1),\n",
       " ('extinct.', 1),\n",
       " ('since', 1),\n",
       " ('bird', 1),\n",
       " ('questioned', 1),\n",
       " ('whether', 1),\n",
       " ('could', 1),\n",
       " ('even', 1),\n",
       " ('name', 1),\n",
       " ('\"probably', 1),\n",
       " ('one', 1),\n",
       " ('worst', 1),\n",
       " ('possible', 1),\n",
       " ('choices\"', 1),\n",
       " ('species.', 1),\n",
       " ('though', 1),\n",
       " ('parrot', 1),\n",
       " ('genera', 1),\n",
       " ('amazona', 1),\n",
       " ('aratinga', 1),\n",
       " ('pre-human', 1),\n",
       " ('sites', 1),\n",
       " ('none', 1),\n",
       " ('such', 1),\n",
       " ('belonging', 1),\n",
       " ('found.', 1),\n",
       " ('conceded', 1),\n",
       " ('are', 1),\n",
       " ('be', 1),\n",
       " ('deposits', 1),\n",
       " ('noted', 1),\n",
       " ('cuban', 1),\n",
       " (\"macaw's\", 1),\n",
       " ('had', 1),\n",
       " ('aquatic', 1),\n",
       " ('deposits.', 1),\n",
       " ('also', 1),\n",
       " ('pointed', 1),\n",
       " ('out', 1),\n",
       " ('various', 1),\n",
       " ('animal', 1),\n",
       " ('kept', 1),\n",
       " ('captivity', 1),\n",
       " ('americans', 1),\n",
       " ('â€“', 1),\n",
       " ('example', 1),\n",
       " ('rican', 1),\n",
       " ('hutia', 1),\n",
       " ('(isolobodon', 1),\n",
       " ('portoricensis,', 1),\n",
       " ('rodent)', 1),\n",
       " ('antillean', 1),\n",
       " ('rail', 1),\n",
       " ('(nesotrochis', 1),\n",
       " ('debooyi,', 1),\n",
       " ('flightless', 1),\n",
       " ('rail)', 1),\n",
       " ('both', 1),\n",
       " ('kitchen', 1),\n",
       " ('middens.', 1)]"
      ]
     },
     "execution_count": 37,
     "metadata": {},
     "output_type": "execute_result"
    }
   ],
   "source": [
    "new_doc2 = my_doc.lower().split()\n",
    "new_wordcount2 = Counter(new_doc2)\n",
    "new_wordcount2.most_common()"
   ]
  },
  {
   "cell_type": "code",
   "execution_count": 38,
   "metadata": {},
   "outputs": [
    {
     "data": {
      "text/plain": [
       "[('the', 10),\n",
       " ('and', 8),\n",
       " ('to', 5),\n",
       " ('found', 5),\n",
       " ('in', 5),\n",
       " ('it', 4),\n",
       " ('that', 4),\n",
       " ('have', 4),\n",
       " ('been', 4),\n",
       " ('species', 3),\n",
       " ('transported', 3),\n",
       " ('they', 3),\n",
       " ('on', 3),\n",
       " ('puerto', 3),\n",
       " ('olson', 2),\n",
       " ('mã¡iz', 2),\n",
       " ('lã³pez', 2),\n",
       " ('considered', 2),\n",
       " ('likely', 2),\n",
       " ('autocthones', 2),\n",
       " ('a', 2),\n",
       " ('by', 2),\n",
       " ('native', 2),\n",
       " ('unlikely', 2),\n",
       " ('occurred', 2),\n",
       " ('naturally', 2),\n",
       " ('st.', 2),\n",
       " ('croix', 2),\n",
       " ('rico,', 2),\n",
       " ('of', 2),\n",
       " ('for', 2),\n",
       " ('fossils', 2),\n",
       " ('macaws', 2),\n",
       " ('cave', 2),\n",
       " ('were', 2),\n",
       " ('an', 2),\n",
       " ('extinct', 2),\n",
       " ('ara', 1),\n",
       " ('was', 1),\n",
       " ('endemic', 1),\n",
       " ('west', 1),\n",
       " ('indian', 1),\n",
       " ('region', 1),\n",
       " ('rather', 1),\n",
       " ('than', 1),\n",
       " ('from', 1),\n",
       " ('mainland', 1),\n",
       " ('americans,', 1),\n",
       " ('as', 1),\n",
       " ('is', 1),\n",
       " ('far', 1),\n",
       " ('more', 1),\n",
       " ('restricted', 1),\n",
       " ('islands', 1),\n",
       " ('would', 1),\n",
       " ('driven', 1),\n",
       " ('extinct.', 1),\n",
       " ('since', 1),\n",
       " ('bird', 1),\n",
       " ('questioned', 1),\n",
       " ('whether', 1),\n",
       " ('could', 1),\n",
       " ('even', 1),\n",
       " ('name', 1),\n",
       " ('\"probably', 1),\n",
       " ('one', 1),\n",
       " ('worst', 1),\n",
       " ('possible', 1),\n",
       " ('choices\"', 1),\n",
       " ('species.', 1),\n",
       " ('though', 1),\n",
       " ('parrot', 1),\n",
       " ('genera', 1),\n",
       " ('amazona', 1),\n",
       " ('aratinga', 1),\n",
       " ('pre-human', 1),\n",
       " ('sites', 1),\n",
       " ('none', 1),\n",
       " ('such', 1),\n",
       " ('belonging', 1),\n",
       " ('found.', 1),\n",
       " ('conceded', 1),\n",
       " ('are', 1),\n",
       " ('be', 1),\n",
       " ('deposits', 1),\n",
       " ('noted', 1),\n",
       " ('cuban', 1),\n",
       " (\"macaw's\", 1),\n",
       " ('had', 1),\n",
       " ('aquatic', 1),\n",
       " ('deposits.', 1),\n",
       " ('also', 1),\n",
       " ('pointed', 1),\n",
       " ('out', 1),\n",
       " ('various', 1),\n",
       " ('animal', 1),\n",
       " ('kept', 1),\n",
       " ('captivity', 1),\n",
       " ('americans', 1),\n",
       " ('â€“', 1),\n",
       " ('example', 1),\n",
       " ('rican', 1),\n",
       " ('hutia', 1),\n",
       " ('(isolobodon', 1),\n",
       " ('portoricensis,', 1),\n",
       " ('rodent)', 1),\n",
       " ('antillean', 1),\n",
       " ('rail', 1),\n",
       " ('(nesotrochis', 1),\n",
       " ('debooyi,', 1),\n",
       " ('flightless', 1),\n",
       " ('rail)', 1),\n",
       " ('both', 1),\n",
       " ('kitchen', 1),\n",
       " ('middens.', 1)]"
      ]
     },
     "execution_count": 38,
     "metadata": {},
     "output_type": "execute_result"
    }
   ],
   "source": [
    "new_doc3 = my_doc.translate(punctuation).lower().split()\n",
    "new_wordcount3 = Counter(new_doc3)\n",
    "new_wordcount3.most_common()"
   ]
  },
  {
   "cell_type": "code",
   "execution_count": 39,
   "metadata": {},
   "outputs": [
    {
     "data": {
      "text/plain": [
       "1165"
      ]
     },
     "execution_count": 39,
     "metadata": {},
     "output_type": "execute_result"
    }
   ],
   "source": [
    "len(my_doc)"
   ]
  },
  {
   "cell_type": "code",
   "execution_count": 40,
   "metadata": {},
   "outputs": [],
   "source": [
    "my_doc = my_doc.lower().strip()"
   ]
  },
  {
   "cell_type": "code",
   "execution_count": 41,
   "metadata": {},
   "outputs": [
    {
     "ename": "LookupError",
     "evalue": "\n**********************************************************************\n  Resource \u001b[93mpunkt\u001b[0m not found.\n  Please use the NLTK Downloader to obtain the resource:\n\n  \u001b[31m>>> import nltk\n  >>> nltk.download('punkt')\n  \u001b[0m\n  For more information see: https://www.nltk.org/data.html\n\n  Attempted to load \u001b[93mtokenizers/punkt/english.pickle\u001b[0m\n\n  Searched in:\n    - 'C:\\\\Users\\\\Amar Shilvanth/nltk_data'\n    - 'C:\\\\Users\\\\Amar Shilvanth\\\\anaconda3\\\\nltk_data'\n    - 'C:\\\\Users\\\\Amar Shilvanth\\\\anaconda3\\\\share\\\\nltk_data'\n    - 'C:\\\\Users\\\\Amar Shilvanth\\\\anaconda3\\\\lib\\\\nltk_data'\n    - 'C:\\\\Users\\\\Amar Shilvanth\\\\AppData\\\\Roaming\\\\nltk_data'\n    - 'C:\\\\nltk_data'\n    - 'D:\\\\nltk_data'\n    - 'E:\\\\nltk_data'\n    - ''\n**********************************************************************\n",
     "output_type": "error",
     "traceback": [
      "\u001b[1;31m---------------------------------------------------------------------------\u001b[0m",
      "\u001b[1;31mLookupError\u001b[0m                               Traceback (most recent call last)",
      "\u001b[1;32m<ipython-input-41-29d1a1a6398f>\u001b[0m in \u001b[0;36m<module>\u001b[1;34m\u001b[0m\n\u001b[1;32m----> 1\u001b[1;33m \u001b[0mdoc_tokens\u001b[0m \u001b[1;33m=\u001b[0m \u001b[0mnltk\u001b[0m\u001b[1;33m.\u001b[0m\u001b[0mword_tokenize\u001b[0m\u001b[1;33m(\u001b[0m\u001b[0mmy_doc\u001b[0m\u001b[1;33m)\u001b[0m\u001b[1;33m\u001b[0m\u001b[1;33m\u001b[0m\u001b[0m\n\u001b[0m",
      "\u001b[1;32m~\\anaconda3\\lib\\site-packages\\nltk\\tokenize\\__init__.py\u001b[0m in \u001b[0;36mword_tokenize\u001b[1;34m(text, language, preserve_line)\u001b[0m\n\u001b[0;32m    142\u001b[0m     \u001b[1;33m:\u001b[0m\u001b[0mtype\u001b[0m \u001b[0mpreserve_line\u001b[0m\u001b[1;33m:\u001b[0m \u001b[0mbool\u001b[0m\u001b[1;33m\u001b[0m\u001b[1;33m\u001b[0m\u001b[0m\n\u001b[0;32m    143\u001b[0m     \"\"\"\n\u001b[1;32m--> 144\u001b[1;33m     \u001b[0msentences\u001b[0m \u001b[1;33m=\u001b[0m \u001b[1;33m[\u001b[0m\u001b[0mtext\u001b[0m\u001b[1;33m]\u001b[0m \u001b[1;32mif\u001b[0m \u001b[0mpreserve_line\u001b[0m \u001b[1;32melse\u001b[0m \u001b[0msent_tokenize\u001b[0m\u001b[1;33m(\u001b[0m\u001b[0mtext\u001b[0m\u001b[1;33m,\u001b[0m \u001b[0mlanguage\u001b[0m\u001b[1;33m)\u001b[0m\u001b[1;33m\u001b[0m\u001b[1;33m\u001b[0m\u001b[0m\n\u001b[0m\u001b[0;32m    145\u001b[0m     return [\n\u001b[0;32m    146\u001b[0m         \u001b[0mtoken\u001b[0m \u001b[1;32mfor\u001b[0m \u001b[0msent\u001b[0m \u001b[1;32min\u001b[0m \u001b[0msentences\u001b[0m \u001b[1;32mfor\u001b[0m \u001b[0mtoken\u001b[0m \u001b[1;32min\u001b[0m \u001b[0m_treebank_word_tokenizer\u001b[0m\u001b[1;33m.\u001b[0m\u001b[0mtokenize\u001b[0m\u001b[1;33m(\u001b[0m\u001b[0msent\u001b[0m\u001b[1;33m)\u001b[0m\u001b[1;33m\u001b[0m\u001b[1;33m\u001b[0m\u001b[0m\n",
      "\u001b[1;32m~\\anaconda3\\lib\\site-packages\\nltk\\tokenize\\__init__.py\u001b[0m in \u001b[0;36msent_tokenize\u001b[1;34m(text, language)\u001b[0m\n\u001b[0;32m    103\u001b[0m     \u001b[1;33m:\u001b[0m\u001b[0mparam\u001b[0m \u001b[0mlanguage\u001b[0m\u001b[1;33m:\u001b[0m \u001b[0mthe\u001b[0m \u001b[0mmodel\u001b[0m \u001b[0mname\u001b[0m \u001b[1;32min\u001b[0m \u001b[0mthe\u001b[0m \u001b[0mPunkt\u001b[0m \u001b[0mcorpus\u001b[0m\u001b[1;33m\u001b[0m\u001b[1;33m\u001b[0m\u001b[0m\n\u001b[0;32m    104\u001b[0m     \"\"\"\n\u001b[1;32m--> 105\u001b[1;33m     \u001b[0mtokenizer\u001b[0m \u001b[1;33m=\u001b[0m \u001b[0mload\u001b[0m\u001b[1;33m(\u001b[0m\u001b[1;34m'tokenizers/punkt/{0}.pickle'\u001b[0m\u001b[1;33m.\u001b[0m\u001b[0mformat\u001b[0m\u001b[1;33m(\u001b[0m\u001b[0mlanguage\u001b[0m\u001b[1;33m)\u001b[0m\u001b[1;33m)\u001b[0m\u001b[1;33m\u001b[0m\u001b[1;33m\u001b[0m\u001b[0m\n\u001b[0m\u001b[0;32m    106\u001b[0m     \u001b[1;32mreturn\u001b[0m \u001b[0mtokenizer\u001b[0m\u001b[1;33m.\u001b[0m\u001b[0mtokenize\u001b[0m\u001b[1;33m(\u001b[0m\u001b[0mtext\u001b[0m\u001b[1;33m)\u001b[0m\u001b[1;33m\u001b[0m\u001b[1;33m\u001b[0m\u001b[0m\n\u001b[0;32m    107\u001b[0m \u001b[1;33m\u001b[0m\u001b[0m\n",
      "\u001b[1;32m~\\anaconda3\\lib\\site-packages\\nltk\\data.py\u001b[0m in \u001b[0;36mload\u001b[1;34m(resource_url, format, cache, verbose, logic_parser, fstruct_reader, encoding)\u001b[0m\n\u001b[0;32m    866\u001b[0m \u001b[1;33m\u001b[0m\u001b[0m\n\u001b[0;32m    867\u001b[0m     \u001b[1;31m# Load the resource.\u001b[0m\u001b[1;33m\u001b[0m\u001b[1;33m\u001b[0m\u001b[1;33m\u001b[0m\u001b[0m\n\u001b[1;32m--> 868\u001b[1;33m     \u001b[0mopened_resource\u001b[0m \u001b[1;33m=\u001b[0m \u001b[0m_open\u001b[0m\u001b[1;33m(\u001b[0m\u001b[0mresource_url\u001b[0m\u001b[1;33m)\u001b[0m\u001b[1;33m\u001b[0m\u001b[1;33m\u001b[0m\u001b[0m\n\u001b[0m\u001b[0;32m    869\u001b[0m \u001b[1;33m\u001b[0m\u001b[0m\n\u001b[0;32m    870\u001b[0m     \u001b[1;32mif\u001b[0m \u001b[0mformat\u001b[0m \u001b[1;33m==\u001b[0m \u001b[1;34m'raw'\u001b[0m\u001b[1;33m:\u001b[0m\u001b[1;33m\u001b[0m\u001b[1;33m\u001b[0m\u001b[0m\n",
      "\u001b[1;32m~\\anaconda3\\lib\\site-packages\\nltk\\data.py\u001b[0m in \u001b[0;36m_open\u001b[1;34m(resource_url)\u001b[0m\n\u001b[0;32m    991\u001b[0m \u001b[1;33m\u001b[0m\u001b[0m\n\u001b[0;32m    992\u001b[0m     \u001b[1;32mif\u001b[0m \u001b[0mprotocol\u001b[0m \u001b[1;32mis\u001b[0m \u001b[1;32mNone\u001b[0m \u001b[1;32mor\u001b[0m \u001b[0mprotocol\u001b[0m\u001b[1;33m.\u001b[0m\u001b[0mlower\u001b[0m\u001b[1;33m(\u001b[0m\u001b[1;33m)\u001b[0m \u001b[1;33m==\u001b[0m \u001b[1;34m'nltk'\u001b[0m\u001b[1;33m:\u001b[0m\u001b[1;33m\u001b[0m\u001b[1;33m\u001b[0m\u001b[0m\n\u001b[1;32m--> 993\u001b[1;33m         \u001b[1;32mreturn\u001b[0m \u001b[0mfind\u001b[0m\u001b[1;33m(\u001b[0m\u001b[0mpath_\u001b[0m\u001b[1;33m,\u001b[0m \u001b[0mpath\u001b[0m \u001b[1;33m+\u001b[0m \u001b[1;33m[\u001b[0m\u001b[1;34m''\u001b[0m\u001b[1;33m]\u001b[0m\u001b[1;33m)\u001b[0m\u001b[1;33m.\u001b[0m\u001b[0mopen\u001b[0m\u001b[1;33m(\u001b[0m\u001b[1;33m)\u001b[0m\u001b[1;33m\u001b[0m\u001b[1;33m\u001b[0m\u001b[0m\n\u001b[0m\u001b[0;32m    994\u001b[0m     \u001b[1;32melif\u001b[0m \u001b[0mprotocol\u001b[0m\u001b[1;33m.\u001b[0m\u001b[0mlower\u001b[0m\u001b[1;33m(\u001b[0m\u001b[1;33m)\u001b[0m \u001b[1;33m==\u001b[0m \u001b[1;34m'file'\u001b[0m\u001b[1;33m:\u001b[0m\u001b[1;33m\u001b[0m\u001b[1;33m\u001b[0m\u001b[0m\n\u001b[0;32m    995\u001b[0m         \u001b[1;31m# urllib might not use mode='rb', so handle this one ourselves:\u001b[0m\u001b[1;33m\u001b[0m\u001b[1;33m\u001b[0m\u001b[1;33m\u001b[0m\u001b[0m\n",
      "\u001b[1;32m~\\anaconda3\\lib\\site-packages\\nltk\\data.py\u001b[0m in \u001b[0;36mfind\u001b[1;34m(resource_name, paths)\u001b[0m\n\u001b[0;32m    699\u001b[0m     \u001b[0msep\u001b[0m \u001b[1;33m=\u001b[0m \u001b[1;34m'*'\u001b[0m \u001b[1;33m*\u001b[0m \u001b[1;36m70\u001b[0m\u001b[1;33m\u001b[0m\u001b[1;33m\u001b[0m\u001b[0m\n\u001b[0;32m    700\u001b[0m     \u001b[0mresource_not_found\u001b[0m \u001b[1;33m=\u001b[0m \u001b[1;34m'\\n%s\\n%s\\n%s\\n'\u001b[0m \u001b[1;33m%\u001b[0m \u001b[1;33m(\u001b[0m\u001b[0msep\u001b[0m\u001b[1;33m,\u001b[0m \u001b[0mmsg\u001b[0m\u001b[1;33m,\u001b[0m \u001b[0msep\u001b[0m\u001b[1;33m)\u001b[0m\u001b[1;33m\u001b[0m\u001b[1;33m\u001b[0m\u001b[0m\n\u001b[1;32m--> 701\u001b[1;33m     \u001b[1;32mraise\u001b[0m \u001b[0mLookupError\u001b[0m\u001b[1;33m(\u001b[0m\u001b[0mresource_not_found\u001b[0m\u001b[1;33m)\u001b[0m\u001b[1;33m\u001b[0m\u001b[1;33m\u001b[0m\u001b[0m\n\u001b[0m\u001b[0;32m    702\u001b[0m \u001b[1;33m\u001b[0m\u001b[0m\n\u001b[0;32m    703\u001b[0m \u001b[1;33m\u001b[0m\u001b[0m\n",
      "\u001b[1;31mLookupError\u001b[0m: \n**********************************************************************\n  Resource \u001b[93mpunkt\u001b[0m not found.\n  Please use the NLTK Downloader to obtain the resource:\n\n  \u001b[31m>>> import nltk\n  >>> nltk.download('punkt')\n  \u001b[0m\n  For more information see: https://www.nltk.org/data.html\n\n  Attempted to load \u001b[93mtokenizers/punkt/english.pickle\u001b[0m\n\n  Searched in:\n    - 'C:\\\\Users\\\\Amar Shilvanth/nltk_data'\n    - 'C:\\\\Users\\\\Amar Shilvanth\\\\anaconda3\\\\nltk_data'\n    - 'C:\\\\Users\\\\Amar Shilvanth\\\\anaconda3\\\\share\\\\nltk_data'\n    - 'C:\\\\Users\\\\Amar Shilvanth\\\\anaconda3\\\\lib\\\\nltk_data'\n    - 'C:\\\\Users\\\\Amar Shilvanth\\\\AppData\\\\Roaming\\\\nltk_data'\n    - 'C:\\\\nltk_data'\n    - 'D:\\\\nltk_data'\n    - 'E:\\\\nltk_data'\n    - ''\n**********************************************************************\n"
     ]
    }
   ],
   "source": [
    "doc_tokens = nltk.word_tokenize(my_doc)"
   ]
  },
  {
   "cell_type": "code",
   "execution_count": 42,
   "metadata": {},
   "outputs": [
    {
     "name": "stderr",
     "output_type": "stream",
     "text": [
      "[nltk_data] Downloading package punkt to C:\\Users\\Amar\n",
      "[nltk_data]     Shilvanth\\AppData\\Roaming\\nltk_data...\n",
      "[nltk_data]   Unzipping tokenizers\\punkt.zip.\n"
     ]
    },
    {
     "data": {
      "text/plain": [
       "True"
      ]
     },
     "execution_count": 42,
     "metadata": {},
     "output_type": "execute_result"
    }
   ],
   "source": [
    "nltk.download('punkt')"
   ]
  },
  {
   "cell_type": "code",
   "execution_count": 43,
   "metadata": {},
   "outputs": [],
   "source": [
    "doc_tokens = nltk.word_tokenize(my_doc)"
   ]
  },
  {
   "cell_type": "code",
   "execution_count": 44,
   "metadata": {},
   "outputs": [
    {
     "data": {
      "text/plain": [
       "['olson',\n",
       " 'and',\n",
       " 'mã¡iz',\n",
       " 'lã³pez',\n",
       " 'considered',\n",
       " 'it',\n",
       " 'likely',\n",
       " 'that',\n",
       " 'ara',\n",
       " 'autocthones',\n",
       " 'was',\n",
       " 'endemic',\n",
       " 'to',\n",
       " 'the',\n",
       " 'west',\n",
       " 'indian',\n",
       " 'region',\n",
       " 'rather',\n",
       " 'than',\n",
       " 'a',\n",
       " 'species',\n",
       " 'transported',\n",
       " 'from',\n",
       " 'the',\n",
       " 'mainland',\n",
       " 'by',\n",
       " 'native',\n",
       " 'americans',\n",
       " ',',\n",
       " 'as',\n",
       " 'it',\n",
       " 'is',\n",
       " 'far',\n",
       " 'more',\n",
       " 'likely',\n",
       " 'a',\n",
       " 'species',\n",
       " 'restricted',\n",
       " 'to',\n",
       " 'islands',\n",
       " 'would',\n",
       " 'have',\n",
       " 'been',\n",
       " 'driven',\n",
       " 'extinct',\n",
       " '.',\n",
       " 'since',\n",
       " 'they',\n",
       " 'found',\n",
       " 'it',\n",
       " 'unlikely',\n",
       " 'the',\n",
       " 'bird',\n",
       " 'occurred',\n",
       " 'naturally',\n",
       " 'on',\n",
       " 'st.',\n",
       " 'croix',\n",
       " 'and',\n",
       " 'questioned',\n",
       " 'whether',\n",
       " 'it',\n",
       " 'could',\n",
       " 'even',\n",
       " 'have',\n",
       " 'occurred',\n",
       " 'naturally',\n",
       " 'on',\n",
       " 'puerto',\n",
       " 'rico',\n",
       " ',',\n",
       " 'they',\n",
       " 'considered',\n",
       " 'the',\n",
       " 'name',\n",
       " 'autocthones',\n",
       " '``',\n",
       " 'probably',\n",
       " 'one',\n",
       " 'of',\n",
       " 'the',\n",
       " 'worst',\n",
       " 'possible',\n",
       " 'choices',\n",
       " \"''\",\n",
       " 'for',\n",
       " 'the',\n",
       " 'species',\n",
       " '.',\n",
       " 'though',\n",
       " 'fossils',\n",
       " 'of',\n",
       " 'the',\n",
       " 'parrot',\n",
       " 'genera',\n",
       " 'amazona',\n",
       " 'and',\n",
       " 'aratinga',\n",
       " 'have',\n",
       " 'been',\n",
       " 'found',\n",
       " 'in',\n",
       " 'pre-human',\n",
       " 'sites',\n",
       " 'on',\n",
       " 'puerto',\n",
       " 'rico',\n",
       " ',',\n",
       " 'none',\n",
       " 'such',\n",
       " 'belonging',\n",
       " 'to',\n",
       " 'macaws',\n",
       " 'have',\n",
       " 'been',\n",
       " 'found',\n",
       " '.',\n",
       " 'olson',\n",
       " 'and',\n",
       " 'mã¡iz',\n",
       " 'lã³pez',\n",
       " 'conceded',\n",
       " 'that',\n",
       " 'macaws',\n",
       " 'are',\n",
       " 'unlikely',\n",
       " 'to',\n",
       " 'be',\n",
       " 'found',\n",
       " 'in',\n",
       " 'cave',\n",
       " 'deposits',\n",
       " 'and',\n",
       " 'noted',\n",
       " 'that',\n",
       " 'the',\n",
       " 'cuban',\n",
       " 'macaw',\n",
       " \"'s\",\n",
       " 'fossils',\n",
       " 'had',\n",
       " 'been',\n",
       " 'found',\n",
       " 'in',\n",
       " 'aquatic',\n",
       " 'deposits',\n",
       " '.',\n",
       " 'they',\n",
       " 'also',\n",
       " 'pointed',\n",
       " 'out',\n",
       " 'that',\n",
       " 'various',\n",
       " 'animal',\n",
       " 'species',\n",
       " 'were',\n",
       " 'transported',\n",
       " 'and',\n",
       " 'kept',\n",
       " 'in',\n",
       " 'captivity',\n",
       " 'by',\n",
       " 'native',\n",
       " 'americans',\n",
       " 'â€',\n",
       " '“',\n",
       " 'for',\n",
       " 'example',\n",
       " 'the',\n",
       " 'puerto',\n",
       " 'rican',\n",
       " 'hutia',\n",
       " '(',\n",
       " 'isolobodon',\n",
       " 'portoricensis',\n",
       " ',',\n",
       " 'an',\n",
       " 'extinct',\n",
       " 'rodent',\n",
       " ')',\n",
       " 'and',\n",
       " 'the',\n",
       " 'antillean',\n",
       " 'cave',\n",
       " 'rail',\n",
       " '(',\n",
       " 'nesotrochis',\n",
       " 'debooyi',\n",
       " ',',\n",
       " 'an',\n",
       " 'extinct',\n",
       " 'flightless',\n",
       " 'rail',\n",
       " ')',\n",
       " 'were',\n",
       " 'both',\n",
       " 'transported',\n",
       " 'to',\n",
       " 'st.',\n",
       " 'croix',\n",
       " 'and',\n",
       " 'found',\n",
       " 'in',\n",
       " 'kitchen',\n",
       " 'middens',\n",
       " '.']"
      ]
     },
     "execution_count": 44,
     "metadata": {},
     "output_type": "execute_result"
    }
   ],
   "source": [
    "doc_tokens"
   ]
  },
  {
   "cell_type": "code",
   "execution_count": 45,
   "metadata": {},
   "outputs": [
    {
     "name": "stderr",
     "output_type": "stream",
     "text": [
      "[nltk_data] Downloading package stopwords to C:\\Users\\Amar\n",
      "[nltk_data]     Shilvanth\\AppData\\Roaming\\nltk_data...\n",
      "[nltk_data]   Package stopwords is already up-to-date!\n"
     ]
    },
    {
     "data": {
      "text/plain": [
       "True"
      ]
     },
     "execution_count": 45,
     "metadata": {},
     "output_type": "execute_result"
    }
   ],
   "source": [
    "nltk.download('stopwords')"
   ]
  },
  {
   "cell_type": "code",
   "execution_count": 46,
   "metadata": {},
   "outputs": [],
   "source": [
    "english  = nltk.corpus.stopwords.words('english')"
   ]
  },
  {
   "cell_type": "code",
   "execution_count": 48,
   "metadata": {},
   "outputs": [
    {
     "data": {
      "text/plain": [
       "179"
      ]
     },
     "execution_count": 48,
     "metadata": {},
     "output_type": "execute_result"
    }
   ],
   "source": [
    "len(english)"
   ]
  },
  {
   "cell_type": "code",
   "execution_count": 55,
   "metadata": {},
   "outputs": [],
   "source": [
    "final_tokens = [token for token in doc_tokens\n",
    "               if token not in english]"
   ]
  },
  {
   "cell_type": "code",
   "execution_count": 56,
   "metadata": {},
   "outputs": [
    {
     "data": {
      "text/plain": [
       "['olson',\n",
       " 'mã¡iz',\n",
       " 'lã³pez',\n",
       " 'considered',\n",
       " 'likely',\n",
       " 'ara',\n",
       " 'autocthones',\n",
       " 'endemic',\n",
       " 'west',\n",
       " 'indian',\n",
       " 'region',\n",
       " 'rather',\n",
       " 'species',\n",
       " 'transported',\n",
       " 'mainland',\n",
       " 'native',\n",
       " 'americans',\n",
       " ',',\n",
       " 'far',\n",
       " 'likely',\n",
       " 'species',\n",
       " 'restricted',\n",
       " 'islands',\n",
       " 'would',\n",
       " 'driven',\n",
       " 'extinct',\n",
       " '.',\n",
       " 'since',\n",
       " 'found',\n",
       " 'unlikely',\n",
       " 'bird',\n",
       " 'occurred',\n",
       " 'naturally',\n",
       " 'st.',\n",
       " 'croix',\n",
       " 'questioned',\n",
       " 'whether',\n",
       " 'could',\n",
       " 'even',\n",
       " 'occurred',\n",
       " 'naturally',\n",
       " 'puerto',\n",
       " 'rico',\n",
       " ',',\n",
       " 'considered',\n",
       " 'name',\n",
       " 'autocthones',\n",
       " '``',\n",
       " 'probably',\n",
       " 'one',\n",
       " 'worst',\n",
       " 'possible',\n",
       " 'choices',\n",
       " \"''\",\n",
       " 'species',\n",
       " '.',\n",
       " 'though',\n",
       " 'fossils',\n",
       " 'parrot',\n",
       " 'genera',\n",
       " 'amazona',\n",
       " 'aratinga',\n",
       " 'found',\n",
       " 'pre-human',\n",
       " 'sites',\n",
       " 'puerto',\n",
       " 'rico',\n",
       " ',',\n",
       " 'none',\n",
       " 'belonging',\n",
       " 'macaws',\n",
       " 'found',\n",
       " '.',\n",
       " 'olson',\n",
       " 'mã¡iz',\n",
       " 'lã³pez',\n",
       " 'conceded',\n",
       " 'macaws',\n",
       " 'unlikely',\n",
       " 'found',\n",
       " 'cave',\n",
       " 'deposits',\n",
       " 'noted',\n",
       " 'cuban',\n",
       " 'macaw',\n",
       " \"'s\",\n",
       " 'fossils',\n",
       " 'found',\n",
       " 'aquatic',\n",
       " 'deposits',\n",
       " '.',\n",
       " 'also',\n",
       " 'pointed',\n",
       " 'various',\n",
       " 'animal',\n",
       " 'species',\n",
       " 'transported',\n",
       " 'kept',\n",
       " 'captivity',\n",
       " 'native',\n",
       " 'americans',\n",
       " 'â€',\n",
       " '“',\n",
       " 'example',\n",
       " 'puerto',\n",
       " 'rican',\n",
       " 'hutia',\n",
       " '(',\n",
       " 'isolobodon',\n",
       " 'portoricensis',\n",
       " ',',\n",
       " 'extinct',\n",
       " 'rodent',\n",
       " ')',\n",
       " 'antillean',\n",
       " 'cave',\n",
       " 'rail',\n",
       " '(',\n",
       " 'nesotrochis',\n",
       " 'debooyi',\n",
       " ',',\n",
       " 'extinct',\n",
       " 'flightless',\n",
       " 'rail',\n",
       " ')',\n",
       " 'transported',\n",
       " 'st.',\n",
       " 'croix',\n",
       " 'found',\n",
       " 'kitchen',\n",
       " 'middens',\n",
       " '.']"
      ]
     },
     "execution_count": 56,
     "metadata": {},
     "output_type": "execute_result"
    }
   ],
   "source": [
    "final_tokens"
   ]
  },
  {
   "cell_type": "code",
   "execution_count": null,
   "metadata": {},
   "outputs": [],
   "source": []
  }
 ],
 "metadata": {
  "kernelspec": {
   "display_name": "Python 3",
   "language": "python",
   "name": "python3"
  },
  "language_info": {
   "codemirror_mode": {
    "name": "ipython",
    "version": 3
   },
   "file_extension": ".py",
   "mimetype": "text/x-python",
   "name": "python",
   "nbconvert_exporter": "python",
   "pygments_lexer": "ipython3",
   "version": "3.7.6"
  }
 },
 "nbformat": 4,
 "nbformat_minor": 4
}
